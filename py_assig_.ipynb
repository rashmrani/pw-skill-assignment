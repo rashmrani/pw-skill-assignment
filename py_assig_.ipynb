{
  "nbformat": 4,
  "nbformat_minor": 0,
  "metadata": {
    "colab": {
      "provenance": []
    },
    "kernelspec": {
      "name": "python3",
      "display_name": "Python 3"
    },
    "language_info": {
      "name": "python"
    }
  },
  "cells": [
    {
      "cell_type": "code",
      "execution_count": null,
      "metadata": {
        "id": "krTCoiZU3_p5"
      },
      "outputs": [],
      "source": []
    },
    {
      "cell_type": "markdown",
      "source": [],
      "metadata": {
        "id": "e2U1W1eE4Uuf"
      }
    },
    {
      "cell_type": "markdown",
      "source": [
        "# 1.Explain the key features of python that make it a popular choice for programming."
      ],
      "metadata": {
        "id": "8FUxlnmz5j9k"
      }
    },
    {
      "cell_type": "code",
      "source": [],
      "metadata": {
        "id": "383GMK366JBN"
      },
      "execution_count": null,
      "outputs": []
    },
    {
      "cell_type": "markdown",
      "source": [
        "python is a dynamic,high level,free open source and interpreted programming language.the key features of python are easy to use and learn,open source,object-oriented programming language,large standard library,dynamically typed,portable."
      ],
      "metadata": {
        "id": "IgruMll96V74"
      }
    },
    {
      "cell_type": "code",
      "source": [],
      "metadata": {
        "id": "RiQ0WjV08pCW"
      },
      "execution_count": null,
      "outputs": []
    },
    {
      "cell_type": "markdown",
      "source": [
        "# 2.Describe the role of predefined keywords in python and provide example of how they are used in a program."
      ],
      "metadata": {
        "id": "CLCzjryO86TO"
      }
    },
    {
      "cell_type": "code",
      "source": [],
      "metadata": {
        "id": "y1BEDrGj9Xe8"
      },
      "execution_count": null,
      "outputs": []
    },
    {
      "cell_type": "markdown",
      "source": [
        "Python keywords are some predefined and reserved words in python that have special meanings.keywords are used to define the syntax of the coding.the keywords can not be used as an identifer,function,or variable name.all the keywords in python are written in lowercase except true and false.except for underscore(\"_\").For ex-true,false,else,import,break,if,finally,is and global."
      ],
      "metadata": {
        "id": "d08ctDYU981q"
      }
    },
    {
      "cell_type": "code",
      "source": [],
      "metadata": {
        "id": "kXID5CWrB859"
      },
      "execution_count": null,
      "outputs": []
    },
    {
      "cell_type": "markdown",
      "source": [
        "# 3.Compare and contrast mutable and immutable objects in python with examples."
      ],
      "metadata": {
        "id": "7cG4G9WeB1kR"
      }
    },
    {
      "cell_type": "markdown",
      "source": [
        "The object that can be modified is mutable,and the objectthat can not be modified is immutable.For example mutable objects include lists,dictionaries,and sets,while immutable objects include string,tuples,and numbers are mutable.mutable object can be changed after creation,while immutable objects can not be changed after creation."
      ],
      "metadata": {
        "id": "pv2AxJvQCoen"
      }
    },
    {
      "cell_type": "markdown",
      "source": [
        "# 4.Discuss the different types of operators in python and provide examples of how they are uesd."
      ],
      "metadata": {
        "id": "7B1izK2BHgzx"
      }
    },
    {
      "cell_type": "code",
      "source": [],
      "metadata": {
        "id": "4zNeTETUIDuP"
      },
      "execution_count": null,
      "outputs": []
    },
    {
      "cell_type": "markdown",
      "source": [
        "Python has several types of operators,including;-\n",
        "Arithmetic opraters:-used for basic mathematical operations,such a addition,subtraction,multiplication,division,and exponentiation.\n",
        "Relation operators:-used to compare two values and return a true or false output.\n",
        "Logical operators:-used to combine multiple condition into a single boolean expression.\n",
        "Assignment operators:-the most commonly used operator in python,where the left side is equal to the right side.\n",
        "Bitwise operators:-used to perform operations on individual bits of binary numbers.\n",
        "Identity operators:-used to compare two objects memory addresses.\n",
        "Membership operators:-used to identify membership in a sequence,such as a list,string,or tuple."
      ],
      "metadata": {
        "id": "ZnidKpQYIdti"
      }
    },
    {
      "cell_type": "markdown",
      "source": [
        "# 5.Explan the concept of type casting in python with example."
      ],
      "metadata": {
        "id": "HTzz1EOPZZ64"
      }
    },
    {
      "cell_type": "code",
      "source": [],
      "metadata": {
        "id": "CnJSXnrharSc"
      },
      "execution_count": null,
      "outputs": []
    },
    {
      "cell_type": "markdown",
      "source": [
        "Type casting in python is the process of converting one data typeto another.there are two types of type casting in python.\n",
        "Implicit casting:-also known as automatic type conversion,this happens when the system automatically converts the data type without the programmers intervention\n",
        "Explicit casting:-also known as manual casting.this happens when the programmer manually converts the type using predefned function like int(int),float(),str?()ect."
      ],
      "metadata": {
        "id": "Hp3v8r0zbYki"
      }
    },
    {
      "cell_type": "code",
      "source": [],
      "metadata": {
        "id": "6nmvIiz3bnFz"
      },
      "execution_count": null,
      "outputs": []
    },
    {
      "cell_type": "markdown",
      "source": [
        "# 6.How do conditional statements work in python?illustrate with examples."
      ],
      "metadata": {
        "id": "lQZgifMWfqcf"
      }
    },
    {
      "cell_type": "markdown",
      "source": [],
      "metadata": {
        "id": "wUlc6Iz8eSAd"
      }
    },
    {
      "cell_type": "markdown",
      "source": [
        "Conditional statement are statement in python that provide a choice for the control flow based on a condition.it means that the control flow of the python program will be decided based on the outcome of the conditon.now let us see how conditional statement are implementd in python.\n",
        "Types  of conditional statement in python\n",
        "*if conditional statement in python\n",
        "*if else conditional statements in python\n",
        "*nested-else conditional statements in pythaon\n",
        "*if-elif-else conditional statements in pythaon\n",
        "*ternary expression conditional statements in python\n",
        "*best  practices for using conditional statements"
      ],
      "metadata": {
        "id": "SBgYDMTigejY"
      }
    },
    {
      "cell_type": "code",
      "source": [],
      "metadata": {
        "id": "S64cq9fFhNwR"
      },
      "execution_count": null,
      "outputs": []
    },
    {
      "cell_type": "markdown",
      "source": [
        "# 7.Describe the different types of loops in python and their use cases with examples."
      ],
      "metadata": {
        "id": "HATRZqpKjpss"
      }
    },
    {
      "cell_type": "code",
      "source": [],
      "metadata": {
        "id": "aZOaQXpZj48o"
      },
      "execution_count": null,
      "outputs": []
    },
    {
      "cell_type": "markdown",
      "source": [
        " Types of loops in python and their cases:-\n",
        " For loop:-used to repeat a block of code a fixed number of times.\n",
        " while loop:-used to repeatedly execute a block of statements untile a specific condition is met.\n",
        " Nested loop[:-Aloop inside of another loop.used for working with two dimension,such as printing starts in rows and columns.\n",
        " programmers use looping  statement in python to simplify complex problems by repeating a set of instruction finitely and modifying the flow of program.\n",
        " ."
      ],
      "metadata": {
        "id": "UEE7oMkWkAhk"
      }
    },
    {
      "cell_type": "code",
      "source": [],
      "metadata": {
        "id": "JHV3r4TKp-Kl"
      },
      "execution_count": null,
      "outputs": []
    }
  ]
}